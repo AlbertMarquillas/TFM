{
  "nbformat": 4,
  "nbformat_minor": 0,
  "metadata": {
    "colab": {
      "name": "TFM.ipynb",
      "provenance": [],
      "collapsed_sections": [],
      "toc_visible": true
    },
    "kernelspec": {
      "display_name": "Python 3",
      "name": "python3"
    },
    "language_info": {
      "name": "python"
    },
    "accelerator": "GPU"
  },
  "cells": [
    {
      "cell_type": "markdown",
      "metadata": {
        "id": "nYzonvpmCaH0"
      },
      "source": [
        "# Procesado Imagenes(Local)"
      ]
    },
    {
      "cell_type": "code",
      "metadata": {
        "id": "B_in60wB52xP"
      },
      "source": [
        "!unzip ../drive/MyDrive/Master/TFM/test.zip -d ../dataset/"
      ],
      "execution_count": null,
      "outputs": []
    },
    {
      "cell_type": "code",
      "metadata": {
        "id": "qJntibi4SsvH"
      },
      "source": [
        "import numpy as np\n",
        "import cv2\n",
        "from google.colab.patches import cv2_imshow"
      ],
      "execution_count": null,
      "outputs": []
    },
    {
      "cell_type": "code",
      "metadata": {
        "id": "XuIZJblPlksI"
      },
      "source": [
        "cap = cv2.VideoCapture('drive/MyDrive/Master/TFM/Videos/test_1.mp4')\n",
        "\n",
        "while(cap.isOpened()):\n",
        "  ret, frame = cap.read()\n",
        "  gray = cv2.cvtColor(frame, cv2.COLOR_BGR2GRAY)\n",
        "  #cv2_imshow(gray)\n",
        "  if cv2.waitKey(1) & 0xFF == ord('q'):\n",
        "    break\n",
        "\n",
        "cap.release()\n",
        "cv2.destroyAllWindows()"
      ],
      "execution_count": null,
      "outputs": []
    },
    {
      "cell_type": "code",
      "metadata": {
        "id": "DeOlBvQSgT3X"
      },
      "source": [
        "# video = cv2...\n",
        "\n",
        "# Cargar .json, recorrer con json parser los nº de img\n",
        "\n",
        "# for x in json\n",
        "#   video.set(0,x)\n",
        "#   ret, frame = cap.read()\n",
        "#   guardar(frame) nombre = x.jpg\n",
        "#   carpeta segmentado\n",
        "#   get bounding boxes"
      ],
      "execution_count": null,
      "outputs": []
    },
    {
      "cell_type": "code",
      "metadata": {
        "id": "DECQqvBvyMjV"
      },
      "source": [
        "cap.set(0,1000)\n",
        "ret, frame = cap.read()\n",
        "cv2_imshow(frame)"
      ],
      "execution_count": null,
      "outputs": []
    },
    {
      "cell_type": "code",
      "metadata": {
        "id": "I07C6xL-zcLv"
      },
      "source": [
        "fps = cap.get(cv2.CAP_PROP_FPS)\n",
        "print(\"FPS: {0}\".format(fps))"
      ],
      "execution_count": null,
      "outputs": []
    },
    {
      "cell_type": "markdown",
      "metadata": {
        "id": "1q9l8KDzCgxD"
      },
      "source": [
        "# Deteccion objetos YOLO V5"
      ]
    },
    {
      "cell_type": "markdown",
      "metadata": {
        "id": "rtnLzNIyCkq5"
      },
      "source": [
        "Importante:\n",
        "\n",
        "* Carpeta entrenamiento:\n",
        "  - images: \n",
        "    - train: imagenes con numero (0001.jpg)\n",
        "  - labels:\n",
        "    - train: \n",
        "      - ficheros con nombre imagen de txt (0001.txt): cada uno tiene \"Nº classe centro_x(normalizado) centro_y(normalizado) width height\n",
        "    - train.chache??\n",
        "\n",
        "* Carpeta YOLO V5:\n",
        "  - data:\n",
        "    - images: imagenes de test\n",
        "    - scripts: bajar datasets de coco, voc...\n",
        "    - ficheros .yaml:\n",
        "      - Sirven para entrenar el dataset\n",
        "      - Su nombre es Nombre_carpeta_entrenamiento.yaml y se pasa como parametro\n",
        "      - Contiene:\n",
        "        - train: ruta directorio con imagenes entrenamiento\n",
        "        - val: ruta directorio con imagenes validación\n",
        "        - nc: numero de clases (en mi caso -> 3)\n",
        "        - names: nombres de las clases (en mi caso -> [ 'jugador' , 'mesa' , 'pelota' ])"
      ]
    },
    {
      "cell_type": "code",
      "metadata": {
        "id": "4GkD9_eLBwmg"
      },
      "source": [
        "!cp -r ./drive/MyDrive/Master/TFM/yolov5/ ./ "
      ],
      "execution_count": null,
      "outputs": []
    },
    {
      "cell_type": "code",
      "metadata": {
        "id": "zAYvvLzMzOvp"
      },
      "source": [
        "!pip install youtube-dl"
      ],
      "execution_count": null,
      "outputs": []
    },
    {
      "cell_type": "code",
      "metadata": {
        "id": "sPwA7rfny7cm"
      },
      "source": [
        "!youtube-dl -f 'bestvideo[ext=mp4]' --output \"youtube.%(ext)s\" https://www.youtube.com/watch?v=nd40lIYtQmA&ab_channel=WorldTableTennis\n",
        "# cut the first 5 seconds\n",
        "!ffmpeg -y -loglevel info -i youtube.mp4 -t 5 video.mp4\n",
        "# detect poses on the these 5 seconds\n",
        "!rm openpose.avi\n",
        "!cd openpose && ./build/examples/openpose/openpose.bin --video ../video.mp4 --write_json ./output/ --display 0  --write_video ../openpose.avi\n",
        "# convert the result into MP4\n",
        "!ffmpeg -y -loglevel info -i openpose.avi output.mp4"
      ],
      "execution_count": null,
      "outputs": []
    },
    {
      "cell_type": "code",
      "metadata": {
        "id": "lH3HU4_OEnhC"
      },
      "source": [
        "!git clone https://github.com/ultralytics/yolov5  # clone repo\n",
        "%cd yolov5\n",
        "%pip install -qr requirements.txt  # install dependencies\n",
        "\n",
        "import torch\n",
        "from IPython.display import Image, clear_output  # to display images\n",
        "\n",
        "clear_output()\n",
        "#print(f\"Setup complete. Using torch {torch.__version__} ({torch.cuda.get_device_properties(0).name if torch.cuda.is_available() else 'CPU'})\")"
      ],
      "execution_count": null,
      "outputs": []
    },
    {
      "cell_type": "code",
      "metadata": {
        "id": "7i_xqyCMmCOA"
      },
      "source": [
        "# Tensorboard (optional)\n",
        "%load_ext tensorboard\n",
        "%tensorboard --logdir runs/train"
      ],
      "execution_count": null,
      "outputs": []
    },
    {
      "cell_type": "code",
      "metadata": {
        "id": "qsL_YsYroFpc"
      },
      "source": [
        "# Weights & Biases (optional)\n",
        "%pip install -q wandb  \n",
        "!wandb logout  # use 'wandb disabled' or 'wandb enabled' to disable or enable"
      ],
      "execution_count": null,
      "outputs": []
    },
    {
      "cell_type": "markdown",
      "metadata": {
        "id": "wpLziGzEGDZq"
      },
      "source": [
        "-- data es para asignar con que se entrena\n",
        "\n",
        "-- weights sirve para asignar pesos ya preentrenados, si se quieren aleatorios -> ''\n",
        "\n",
        "Con train.py --resume se continua desde parada y se puede indicar carpeta con los wheights"
      ]
    },
    {
      "cell_type": "code",
      "metadata": {
        "id": "yNB4cqPw2VSj"
      },
      "source": [
        "!python train.py --resume"
      ],
      "execution_count": null,
      "outputs": []
    },
    {
      "cell_type": "code",
      "metadata": {
        "id": "EJyjen4uFwzE"
      },
      "source": [
        "!python train.py --img 640 --batch 16 --epochs 6 --data data.yaml --weights yolov5l.pt --save_period 600"
      ],
      "execution_count": null,
      "outputs": []
    },
    {
      "cell_type": "code",
      "metadata": {
        "id": "VNPOottUSh45"
      },
      "source": [
        "!python train.py --resume"
      ],
      "execution_count": null,
      "outputs": []
    },
    {
      "cell_type": "code",
      "metadata": {
        "id": "KPFUwNV8AzIG"
      },
      "source": [
        "ls ../drive/MyDrive/Master/TFM/data/labels/5000*"
      ],
      "execution_count": null,
      "outputs": []
    },
    {
      "cell_type": "markdown",
      "metadata": {
        "id": "tidhQYFPKCmh"
      },
      "source": [
        "-- weights debe estar en la carpeta de yolov5 y se asignan las del entrenamiento\n",
        "\n",
        "-- conf sirve para determinar la confianza de la predicción\n",
        "\n",
        "-- source es de donde coge las imagenes"
      ]
    },
    {
      "cell_type": "code",
      "metadata": {
        "id": "s06t-XYBoIkm"
      },
      "source": [
        "!cp -r ../yolov5/ ../drive/MyDrive/Master/TFM/"
      ],
      "execution_count": null,
      "outputs": []
    },
    {
      "cell_type": "code",
      "metadata": {
        "id": "4ItmdE5Yxyrj"
      },
      "source": [
        "!cp ../drive/MyDrive/Master/TFM/Videos/test_2.mp4 ../"
      ],
      "execution_count": null,
      "outputs": []
    },
    {
      "cell_type": "code",
      "metadata": {
        "id": "UspYePgIyNxN"
      },
      "source": [
        "!cp ../drive/MyDrive/Master/TFM/best.pt ./"
      ],
      "execution_count": null,
      "outputs": []
    },
    {
      "cell_type": "code",
      "metadata": {
        "id": "TRTMKQRyKArD"
      },
      "source": [
        "!python detect.py --weights best.pt --img 640 --conf 0.25 --source ../ --save-conf --save-txt --save-crop"
      ],
      "execution_count": null,
      "outputs": []
    },
    {
      "cell_type": "code",
      "metadata": {
        "id": "SBX5M0aDVXOE"
      },
      "source": [
        "!cp ../drive/MyDrive/Master/TFM/yolov5/runs/train/exp/weights/best.pt ./"
      ],
      "execution_count": null,
      "outputs": []
    },
    {
      "cell_type": "code",
      "metadata": {
        "id": "1erLa6mQ5z6X"
      },
      "source": [
        "!python test.py --weights best_g1345.pt --data data.yaml"
      ],
      "execution_count": null,
      "outputs": []
    },
    {
      "cell_type": "code",
      "metadata": {
        "id": "8VG-L2X0k-cx"
      },
      "source": [
        "!rm -r ../dataset/"
      ],
      "execution_count": null,
      "outputs": []
    },
    {
      "cell_type": "code",
      "metadata": {
        "id": "S2CYqny29Dtw"
      },
      "source": [
        "!cp -r ./runs/test/exp2/ ../drive/MyDrive/Master/TFM/test/"
      ],
      "execution_count": null,
      "outputs": []
    },
    {
      "cell_type": "code",
      "metadata": {
        "id": "n4BKpT5p2URK"
      },
      "source": [
        "from os import walk\n",
        "\n",
        "_, _, filenames = next(walk('./runs/detect/exp/labels/'))\n",
        "\n",
        "sorted(sorted(filenames), key=len)"
      ],
      "execution_count": null,
      "outputs": []
    },
    {
      "cell_type": "code",
      "metadata": {
        "id": "7Pui3VBBrxgZ"
      },
      "source": [
        "!cp -r ./runs ../drive/MyDrive/"
      ],
      "execution_count": null,
      "outputs": []
    }
  ]
}