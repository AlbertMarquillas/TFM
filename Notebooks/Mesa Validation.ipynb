{
 "cells": [
  {
   "cell_type": "markdown",
   "metadata": {},
   "source": [
    "# Tratamiento de dataset"
   ]
  },
  {
   "cell_type": "code",
   "execution_count": 1,
   "metadata": {},
   "outputs": [],
   "source": [
    "import cv2\n",
    "import numpy as np\n",
    "\n",
    "#import os\n",
    "#import shutil\n",
    "\n",
    "import random\n",
    "\n",
    "from PixelMetro import *"
   ]
  },
  {
   "cell_type": "code",
   "execution_count": 25,
   "metadata": {},
   "outputs": [],
   "source": [
    "path = './segmentation_masks/'\n",
    "_, _, filenames = next(walk(path))\n",
    "\n",
    "files = sorted(sorted(filenames), key=len)\n",
    "files = random.shuffle(files)[:1000] # Uso las 1000 primeras imagenes"
   ]
  },
  {
   "cell_type": "code",
   "execution_count": 26,
   "metadata": {},
   "outputs": [],
   "source": [
    "iou_list = []\n",
    "\n",
    "for name in files:\n",
    "    numVideo = str(name)[0] # El 1er digito indica num video\n",
    "    _,_,img = cv2.split(cv2.imread(\"segmentation_masks/\"+name+\".png\"))\n",
    "    cap = cv2.VideoCapture('./test_'+numVideo+'.mp4')\n",
    "    cap.set(cv2.CAP_PROP_POS_FRAMES,int(str(name)[1:-1]))\n",
    "    ret, frame = cap.read()\n",
    "    img = cv2.resize(img,(320,180))\n",
    "    thresh = cv2.threshold(img,128,255,cv2.THRESH_BINARY)[1]\n",
    "    contours,hierarchy = cv2.findContours(thresh, 1, 2)\n",
    "    for x in range(len(contours)):\n",
    "        cnt = contours[x]\n",
    "        x,y,w,h = cv2.boundingRect(cnt)\n",
    "        cropped = image[x:(w + x), y:(h + y)]\n",
    "        a,b,c,d = get_Table(cropped)\n",
    "        trapez = np.copy(cropped) * 0\n",
    "        ppt = np.array([a,c,d,b], np.int32)\n",
    "        ppt = ppt.reshape((-1, 1, 2))\n",
    "        tableDet = cv2.cvtColor(cv2.fillPoly(trapez, [ppt], (255), 8),cv2.COLOR_BGR2GRAY)\n",
    "        union = cv2.countNonZero(cv2.bitwise_or(tableDet,thresh))\n",
    "        intersect = cv2.countNonZero(cv2.bitwise_and(tableDet,thresh))\n",
    "        iou += [intersect/union] "
   ]
  },
  {
   "cell_type": "code",
   "execution_count": 27,
   "metadata": {},
   "outputs": [],
   "source": [
    "iou = 0\n",
    "err = 0\n",
    "\n",
    "for x in iou_list:\n",
    "    iou += x\n",
    "    if x < 0.9:\n",
    "        err +=1\n",
    "\n",
    "iou /= len(iou_list)\n",
    "err /= len(iou_list)"
   ]
  },
  {
   "cell_type": "code",
   "execution_count": 32,
   "metadata": {},
   "outputs": [
    {
     "name": "stdout",
     "output_type": "stream",
     "text": [
      "0.912666666666\n"
     ]
    }
   ],
   "source": [
    "print(iou)"
   ]
  },
  {
   "cell_type": "code",
   "execution_count": 33,
   "metadata": {},
   "outputs": [
    {
     "name": "stdout",
     "output_type": "stream",
     "text": [
      "0.072\n"
     ]
    }
   ],
   "source": [
    "print(err)"
   ]
  }
 ],
 "metadata": {
  "kernelspec": {
   "display_name": "Python 3",
   "language": "python",
   "name": "python3"
  },
  "language_info": {
   "codemirror_mode": {
    "name": "ipython",
    "version": 3
   },
   "file_extension": ".py",
   "mimetype": "text/x-python",
   "name": "python",
   "nbconvert_exporter": "python",
   "pygments_lexer": "ipython3",
   "version": "3.8.5"
  }
 },
 "nbformat": 4,
 "nbformat_minor": 4
}
