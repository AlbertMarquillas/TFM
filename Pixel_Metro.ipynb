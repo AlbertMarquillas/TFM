{
 "cells": [
  {
   "cell_type": "markdown",
   "metadata": {},
   "source": [
    "# Obtención Pixel Metro"
   ]
  },
  {
   "cell_type": "markdown",
   "metadata": {},
   "source": [
    "### Imports"
   ]
  },
  {
   "cell_type": "code",
   "execution_count": 3,
   "metadata": {},
   "outputs": [],
   "source": [
    "from PIL import Image\n",
    "import cv2\n",
    "import matplotlib.pyplot as plt\n",
    "import numpy as np\n",
    "import math"
   ]
  },
  {
   "cell_type": "markdown",
   "metadata": {},
   "source": [
    "### Obtener una imagen de mesa recortada"
   ]
  },
  {
   "cell_type": "code",
   "execution_count": 18,
   "metadata": {},
   "outputs": [
    {
     "ename": "ValueError",
     "evalue": "not enough values to unpack (expected 3, got 0)",
     "output_type": "error",
     "traceback": [
      "\u001b[1;31m---------------------------------------------------------------------------\u001b[0m",
      "\u001b[1;31mValueError\u001b[0m                                Traceback (most recent call last)",
      "\u001b[1;32m<ipython-input-18-95436ba68242>\u001b[0m in \u001b[0;36m<module>\u001b[1;34m\u001b[0m\n\u001b[1;32m----> 1\u001b[1;33m \u001b[0mb\u001b[0m\u001b[1;33m,\u001b[0m\u001b[0mg\u001b[0m\u001b[1;33m,\u001b[0m\u001b[0mr\u001b[0m \u001b[1;33m=\u001b[0m \u001b[0mcv2\u001b[0m\u001b[1;33m.\u001b[0m\u001b[0msplit\u001b[0m\u001b[1;33m(\u001b[0m\u001b[0mcv2\u001b[0m\u001b[1;33m.\u001b[0m\u001b[0mimread\u001b[0m\u001b[1;33m(\u001b[0m\u001b[1;34m\"segmentation_masks/36.png\"\u001b[0m\u001b[1;33m)\u001b[0m\u001b[1;33m)\u001b[0m\u001b[1;33m\u001b[0m\u001b[1;33m\u001b[0m\u001b[0m\n\u001b[0m\u001b[0;32m      2\u001b[0m \u001b[0mimg\u001b[0m \u001b[1;33m=\u001b[0m \u001b[0mr\u001b[0m\u001b[1;33m\u001b[0m\u001b[1;33m\u001b[0m\u001b[0m\n\u001b[0;32m      3\u001b[0m \u001b[0mimg\u001b[0m \u001b[1;33m=\u001b[0m \u001b[0mcv2\u001b[0m\u001b[1;33m.\u001b[0m\u001b[0mresize\u001b[0m\u001b[1;33m(\u001b[0m\u001b[0mimg\u001b[0m\u001b[1;33m,\u001b[0m\u001b[1;33m(\u001b[0m\u001b[1;36m200\u001b[0m\u001b[1;33m,\u001b[0m\u001b[1;36m100\u001b[0m\u001b[1;33m)\u001b[0m\u001b[1;33m)\u001b[0m\u001b[1;33m\u001b[0m\u001b[1;33m\u001b[0m\u001b[0m\n\u001b[0;32m      4\u001b[0m \u001b[0mthresh\u001b[0m \u001b[1;33m=\u001b[0m \u001b[0mcv2\u001b[0m\u001b[1;33m.\u001b[0m\u001b[0mthreshold\u001b[0m\u001b[1;33m(\u001b[0m\u001b[0mimg\u001b[0m\u001b[1;33m,\u001b[0m\u001b[1;36m128\u001b[0m\u001b[1;33m,\u001b[0m\u001b[1;36m255\u001b[0m\u001b[1;33m,\u001b[0m\u001b[0mcv2\u001b[0m\u001b[1;33m.\u001b[0m\u001b[0mTHRESH_BINARY\u001b[0m\u001b[1;33m)\u001b[0m\u001b[1;33m[\u001b[0m\u001b[1;36m1\u001b[0m\u001b[1;33m]\u001b[0m\u001b[1;33m\u001b[0m\u001b[1;33m\u001b[0m\u001b[0m\n\u001b[0;32m      5\u001b[0m \u001b[0mcontours\u001b[0m\u001b[1;33m,\u001b[0m\u001b[0mhierarchy\u001b[0m \u001b[1;33m=\u001b[0m \u001b[0mcv2\u001b[0m\u001b[1;33m.\u001b[0m\u001b[0mfindContours\u001b[0m\u001b[1;33m(\u001b[0m\u001b[0mthresh\u001b[0m\u001b[1;33m,\u001b[0m \u001b[1;36m1\u001b[0m\u001b[1;33m,\u001b[0m \u001b[1;36m2\u001b[0m\u001b[1;33m)\u001b[0m\u001b[1;33m\u001b[0m\u001b[1;33m\u001b[0m\u001b[0m\n",
      "\u001b[1;31mValueError\u001b[0m: not enough values to unpack (expected 3, got 0)"
     ]
    }
   ],
   "source": [
    "b,g,r = cv2.split(cv2.imread(\"segmentation_masks/36.png\"))\n",
    "img = r\n",
    "img = cv2.resize(img,(320,180))\n",
    "thresh = cv2.threshold(img,128,255,cv2.THRESH_BINARY)[1]\n",
    "contours,hierarchy = cv2.findContours(thresh, 1, 2)\n",
    "for a in range(len(contours)):\n",
    "    cnt = contours[0]\n",
    "    x,y,w,h = cv2.boundingRect(cnt)\n",
    "    if w<=5 or h<=5:\n",
    "        continue\n",
    "    img = cv2.rectangle(img,(x,y),(x+w,y+h),(255,255,255),1)"
   ]
  },
  {
   "cell_type": "code",
   "execution_count": null,
   "metadata": {},
   "outputs": [],
   "source": [
    "im = Image.open(r\"./images/10000036.jpg\")"
   ]
  },
  {
   "cell_type": "code",
   "execution_count": 16,
   "metadata": {},
   "outputs": [
    {
     "ename": "NameError",
     "evalue": "name 'im' is not defined",
     "output_type": "error",
     "traceback": [
      "\u001b[1;31m---------------------------------------------------------------------------\u001b[0m",
      "\u001b[1;31mNameError\u001b[0m                                 Traceback (most recent call last)",
      "\u001b[1;32m<ipython-input-16-b02567c7a51a>\u001b[0m in \u001b[0;36m<module>\u001b[1;34m\u001b[0m\n\u001b[1;32m----> 1\u001b[1;33m \u001b[0mcroped\u001b[0m \u001b[1;33m=\u001b[0m \u001b[0mim\u001b[0m\u001b[1;33m.\u001b[0m\u001b[0mcrop\u001b[0m\u001b[1;33m(\u001b[0m\u001b[1;33m(\u001b[0m\u001b[0mx\u001b[0m\u001b[1;33m*\u001b[0m\u001b[1;36m6\u001b[0m\u001b[1;33m,\u001b[0m \u001b[0my\u001b[0m\u001b[1;33m*\u001b[0m\u001b[1;36m6\u001b[0m\u001b[1;33m,\u001b[0m \u001b[0mx\u001b[0m\u001b[1;33m*\u001b[0m\u001b[1;36m6\u001b[0m\u001b[1;33m+\u001b[0m\u001b[0mw\u001b[0m\u001b[1;33m*\u001b[0m\u001b[1;36m6\u001b[0m \u001b[1;33m,\u001b[0m \u001b[0my\u001b[0m\u001b[1;33m*\u001b[0m\u001b[1;36m6\u001b[0m\u001b[1;33m+\u001b[0m\u001b[0mh\u001b[0m\u001b[1;33m*\u001b[0m\u001b[1;36m6\u001b[0m\u001b[1;33m)\u001b[0m\u001b[1;33m)\u001b[0m\u001b[1;33m\u001b[0m\u001b[1;33m\u001b[0m\u001b[0m\n\u001b[0m",
      "\u001b[1;31mNameError\u001b[0m: name 'im' is not defined"
     ]
    }
   ],
   "source": [
    "croped = im.crop((x*6, y*6, x*6+w*6 , y*6+h*6))"
   ]
  },
  {
   "cell_type": "code",
   "execution_count": 17,
   "metadata": {},
   "outputs": [
    {
     "ename": "NameError",
     "evalue": "name 'croped' is not defined",
     "output_type": "error",
     "traceback": [
      "\u001b[1;31m---------------------------------------------------------------------------\u001b[0m",
      "\u001b[1;31mNameError\u001b[0m                                 Traceback (most recent call last)",
      "\u001b[1;32m<ipython-input-17-86e9d6894ffc>\u001b[0m in \u001b[0;36m<module>\u001b[1;34m\u001b[0m\n\u001b[1;32m----> 1\u001b[1;33m \u001b[0mcroped\u001b[0m\u001b[1;33m.\u001b[0m\u001b[0msave\u001b[0m\u001b[1;33m(\u001b[0m\u001b[1;34m\"./table\"\u001b[0m\u001b[1;33m,\u001b[0m \u001b[1;34m\"jpeg\"\u001b[0m\u001b[1;33m)\u001b[0m\u001b[1;33m\u001b[0m\u001b[1;33m\u001b[0m\u001b[0m\n\u001b[0m",
      "\u001b[1;31mNameError\u001b[0m: name 'croped' is not defined"
     ]
    }
   ],
   "source": [
    "croped.save(\"./table\", \"jpeg\")"
   ]
  },
  {
   "cell_type": "markdown",
   "metadata": {},
   "source": [
    "### Implementación"
   ]
  },
  {
   "cell_type": "code",
   "execution_count": 4,
   "metadata": {},
   "outputs": [],
   "source": [
    "def getLines(img):\n",
    "    img = cv2.resize(img,(400,60))\n",
    "    gray = cv2.cvtColor(img,cv2.COLOR_BGR2GRAY)\n",
    "\n",
    "    kernel_size = 5\n",
    "    blur_gray = cv2.GaussianBlur(gray,(kernel_size, kernel_size),0)\n",
    "\n",
    "    low_threshold = 50\n",
    "    high_threshold = 125\n",
    "    edges = cv2.Canny(blur_gray, low_threshold, high_threshold)\n",
    "    kernel = np.ones((5,5),np.uint8)\n",
    "    closing = cv2.morphologyEx(edges, cv2.MORPH_CLOSE, kernel)\n",
    "    \n",
    "    rho = 1  # distance resolution in pixels of the Hough grid\n",
    "    theta = np.pi / 180  # angular resolution in radians of the Hough grid\n",
    "    threshold = 10  # minimum number of votes (intersections in Hough grid cell)\n",
    "    min_line_length = 40  # minimum number of pixels making up a line\n",
    "    max_line_gap = 30  # maximum gap in pixels between connectable line segments\n",
    "    line_image = np.copy(img) * 0  # creating a blank to draw lines on\n",
    "\n",
    "    # Run Hough on edge detected image\n",
    "    # Output \"lines\" is an array containing endpoints of detected line segments\n",
    "    lines = cv2.HoughLinesP(closing, rho, theta, threshold, np.array([]),min_line_length, max_line_gap)\n",
    "\n",
    "    #for line in lines:\n",
    "    #    for x1,y1,x2,y2 in line:\n",
    "    #        cv2.line(line_image,(x1,y1),(x2,y2),(255,0,0),5)\n",
    "    \n",
    "    return lines"
   ]
  },
  {
   "cell_type": "code",
   "execution_count": 2,
   "metadata": {},
   "outputs": [],
   "source": [
    "img = cv2.imread(\"./taula2.JPG\")\n",
    "img = cv2.resize(img,(400,60))\n",
    "gray = cv2.cvtColor(img,cv2.COLOR_BGR2GRAY)\n",
    "\n",
    "kernel_size = 5\n",
    "blur_gray = cv2.GaussianBlur(gray,(kernel_size, kernel_size),0)\n",
    "#ret,blur_gray = cv2.threshold(gray,120,255,cv2.THRESH_BINARY)"
   ]
  },
  {
   "cell_type": "code",
   "execution_count": 3,
   "metadata": {},
   "outputs": [],
   "source": [
    "#blur_gray = imagen - gray\n",
    "low_threshold = 50\n",
    "high_threshold = 125\n",
    "edges = cv2.Canny(blur_gray, low_threshold, high_threshold)\n",
    "kernel = np.ones((5,5),np.uint8)\n",
    "closing = cv2.morphologyEx(edges, cv2.MORPH_CLOSE, kernel)"
   ]
  },
  {
   "cell_type": "code",
   "execution_count": 4,
   "metadata": {},
   "outputs": [],
   "source": [
    "rho = 1  # distance resolution in pixels of the Hough grid\n",
    "theta = np.pi / 180  # angular resolution in radians of the Hough grid\n",
    "threshold = 10  # minimum number of votes (intersections in Hough grid cell)\n",
    "min_line_length = 40  # minimum number of pixels making up a line\n",
    "max_line_gap = 30  # maximum gap in pixels between connectable line segments\n",
    "line_image = np.copy(img) * 0  # creating a blank to draw lines on\n",
    "\n",
    "# Run Hough on edge detected image\n",
    "# Output \"lines\" is an array containing endpoints of detected line segments\n",
    "lines = cv2.HoughLinesP(closing, rho, theta, threshold, np.array([]),min_line_length, max_line_gap)\n",
    "\n",
    "for line in lines:\n",
    "    for x1,y1,x2,y2 in line:\n",
    "        cv2.line(line_image,(x1,y1),(x2,y2),(255,0,0),5)"
   ]
  },
  {
   "cell_type": "code",
   "execution_count": 5,
   "metadata": {},
   "outputs": [],
   "source": [
    "lines_edges = cv2.addWeighted(img, 0.8, line_image, 1, 0)"
   ]
  },
  {
   "cell_type": "code",
   "execution_count": 6,
   "metadata": {},
   "outputs": [
    {
     "data": {
      "text/plain": [
       "<matplotlib.image.AxesImage at 0x276290f3f10>"
      ]
     },
     "execution_count": 6,
     "metadata": {},
     "output_type": "execute_result"
    },
    {
     "data": {
      "image/png": "[encoded data removed]",
      "text/plain": [
       "<Figure size 432x288 with 1 Axes>"
      ]
     },
     "metadata": {
      "needs_background": "light"
     },
     "output_type": "display_data"
    }
   ],
   "source": [
    "plt.imshow(lines_edges)"
   ]
  },
  {
   "cell_type": "code",
   "execution_count": 16,
   "metadata": {},
   "outputs": [],
   "source": [
    "img = cv2.imread(\"./taula2.JPG\")\n",
    "lines = getLines(img)"
   ]
  },
  {
   "cell_type": "code",
   "execution_count": 17,
   "metadata": {},
   "outputs": [],
   "source": [
    "def getMaxLine(lines):\n",
    "    \"\"\"\n",
    "    Encuentra la linea más larga que será la de 2.74 m de la mesa\n",
    "    \"\"\"\n",
    "    maxline = 0\n",
    "    maxvalues = []\n",
    "    m = 0\n",
    "    for line in lines:\n",
    "        for x1,y1,x2,y2 in line:\n",
    "            dist = math.sqrt((x1-x2)**2 + (y1-y2)**2)\n",
    "            if dist>maxline:\n",
    "                maxline = dist\n",
    "                maxvalues = [x1,y1,x2,y2]\n",
    "    return maxvalues\n",
    "\n",
    "\n",
    "def eraseDuplicates(lines, l, acc = 10):\n",
    "    \"\"\"\n",
    "    Elimina las lineas repetidas\n",
    "    \"\"\"\n",
    "    new_lines = []\n",
    "    xl1,yl1,xl2,yl2 = l\n",
    "    xm1,ym1,xm2,ym2 = l\n",
    "    count = 1\n",
    "    for line in lines:\n",
    "        for x1,y1,x2,y2 in line:\n",
    "            if (abs(x1 - xl1) <= acc) and (abs(y1 - yl1) <= acc):\n",
    "                if (abs(x2 - xl2) <= acc) and (abs(y2 - yl2) <= acc):\n",
    "                    xm1 += x1\n",
    "                    ym1 += y1\n",
    "                    xm2 += x2\n",
    "                    ym2 += y2\n",
    "                    count +=1\n",
    "                    continue\n",
    "            new_lines.append(line)\n",
    "    return (np.array(new_lines),[int(xm1/count),int(ym1/count),int(xm2/count),int(ym2/count)])\n",
    "\n",
    "                    \n",
    "def getBestCorner(lines, l, right, acc = 10):\n",
    "    \"\"\"\n",
    "    Encuentra las lineas paralelas a la dada sin devolver repeticiones\n",
    "    \"\"\"\n",
    "    lines,_ = eraseDuplicates(lines, l)\n",
    "    xl1,yl1,xl2,yl2 = l\n",
    "    ml = (yl2 - yl1)/(xl2 - xl1)\n",
    "    \n",
    "    best_line = []\n",
    "    \n",
    "    for line in lines:\n",
    "        for x1,y1,x2,y2 in line:\n",
    "            if right == True:\n",
    "                if (abs(x1 - xl1) <= acc) and (abs(y1 - yl1) <= acc):\n",
    "                    m = (y2 - y1)/(x2 - x1)\n",
    "                    alpha = math.atan((ml - m)/(1+ml*m))* 180 / np.pi\n",
    "                    if (alpha>25 and alpha<90) or (alpha < -40 and alpha > -90):\n",
    "                        best_line.append([[x1,y1,x2,y2]])\n",
    "            else:\n",
    "                if (abs(x2 - xl2) <= acc) and (abs(y2 - yl2) <= acc):\n",
    "                    m = (y2 - y1)/(x2 - x1)\n",
    "                    alpha = math.atan((ml - m)/(1+ml*m))* 180 / np.pi\n",
    "                    if (alpha<-20 and alpha>-90) or (alpha > 40 and alpha < 90):\n",
    "                        best_line.append([[x1,y1,x2,y2]])\n",
    "                    \n",
    "    if best_line == []: #No ha encontrado linea buena\n",
    "        return getBestCorner(lines, l, right, acc+1)\n",
    "    else:\n",
    "        return getMaxLine(np.array(best_line))\n",
    "    \n",
    "def getRectangle(img,lines):\n",
    "    \"\"\"\n",
    "    Crea el rectangulo a partir de las lineas sacadas de la imagen\n",
    "    \"\"\"\n",
    "    xa1,ya1,xb1,yb1 = getMaxLine(lines)\n",
    "    xa2,ya2,xc1,yc1 = getBestCorner(lines,getMaxLine(lines),True)\n",
    "    xd1,yd1,xb2,yb2 = getBestCorner(lines,getMaxLine(lines),False)\n",
    "    y,x,_ = img.shape\n",
    "    xa = int(((xa1 + xa2) / 2)*x/400)\n",
    "    ya = int(((ya1 + ya2) / 2)*y/60)\n",
    "    xb = int(((xb1 + xb2) / 2)*x/400)\n",
    "    yb = int(((yb1 + yb2) / 2)*y/60)\n",
    "    xc = int(xc1*x/400)\n",
    "    yc = int(yc1*y/60)\n",
    "    xd = int(xd1*x/400)\n",
    "    yd = int(yd1*y/60)\n",
    "    cv2.line(img,(xa,ya),(xb,yb),(255,255,0),5);\n",
    "    cv2.line(img,(xa,ya),(xc,yc),(255,255,0),5);\n",
    "    cv2.line(img,(xd,yd),(xb,yb),(255,255,0),5);\n",
    "    cv2.line(img,(xc,yc),(xd,yd),(255,255,0),5);\n",
    "    plt.imshow(img)\n",
    "    return ([xa,ya],[xb,yb],[xc,yc],[xd,yd])"
   ]
  },
  {
   "cell_type": "code",
   "execution_count": 33,
   "metadata": {},
   "outputs": [
    {
     "data": {
      "image/png": "[encoded data removed]",
      "text/plain": [
       "<Figure size 432x288 with 1 Axes>"
      ]
     },
     "metadata": {
      "needs_background": "light"
     },
     "output_type": "display_data"
    }
   ],
   "source": [
    "a,b,c,d = getRectangle(img,lines)"
   ]
  },
  {
   "cell_type": "code",
   "execution_count": 34,
   "metadata": {},
   "outputs": [],
   "source": [
    "# a b = 2.74\n",
    "# c d = 2.74\n",
    "# a c = 1.525\n",
    "# b d = 1.525"
   ]
  },
  {
   "cell_type": "code",
   "execution_count": 35,
   "metadata": {},
   "outputs": [],
   "source": [
    "l1 = a+b\n",
    "l2 = c+d\n",
    "l3 = a+c\n",
    "l4 = b+d"
   ]
  },
  {
   "cell_type": "code",
   "execution_count": 47,
   "metadata": {},
   "outputs": [],
   "source": [
    "def scalePoints(x,y,a,b,c,d):\n",
    "    \"\"\"\n",
    "    Obtiene los puntos de la esquina de la mesa, y los convierte en lineas\n",
    "    escaladas a la medida de la imagen\n",
    "    \"\"\"\n",
    "    a[0]+=x\n",
    "    b[0]+=x\n",
    "    c[0]+=x\n",
    "    d[0]+=x\n",
    "    a[1]+=y\n",
    "    b[1]+=y\n",
    "    c[1]+=y\n",
    "    d[1]+=y\n",
    "    l1 = a+b\n",
    "    l2 = c+d\n",
    "    l3 = a+c\n",
    "    l4 = b+d\n",
    "    return (l1,l2,l3,l4)"
   ]
  },
  {
   "cell_type": "code",
   "execution_count": 20,
   "metadata": {},
   "outputs": [],
   "source": [
    "# Sumar a las rectas las coordenadas x0 y y0 "
   ]
  },
  {
   "cell_type": "code",
   "execution_count": 68,
   "metadata": {},
   "outputs": [],
   "source": [
    "def getDist(pt,l):\n",
    "    \"\"\"\n",
    "    Devuleve la distáncia entre un punto y una linea\n",
    "    \"\"\"\n",
    "    x1,y1,x2,y2 = l\n",
    "    px,py = pt\n",
    "    m = (y2 - y1)/(x2 - x1)\n",
    "    n = y1 - (x1 * m)\n",
    "    dist = ((-m*px) + py - n) / math.sqrt( m**2 + 1)\n",
    "    return dist\n",
    "\n",
    "def getPixelMeterX(pt,l1,l2, horitzontal = True):\n",
    "    \"\"\"\n",
    "    Devuelve la relación píxel metro de un punto en el eje \"X\"\n",
    "    \"\"\"\n",
    "    x1,y1,x2,y2 = l1\n",
    "    a1,b1,a2,b2 = l2\n",
    "    dl1 = math.sqrt((x1-x2)**2+(y1-y2)**2)\n",
    "    dl2 = math.sqrt((a1-a2)**2+(b1-b2)**2)\n",
    "    d1_2 = getDist((a1,b1),l1)\n",
    "    d1_p = getDist(pt,l1)\n",
    "    if horitzontal == True:\n",
    "        rel = 2.74\n",
    "    else:\n",
    "        rel = 1.525\n",
    "    pm = (dl1 - ((dl1-dl2)/d1_2)*d1_p) / rel\n",
    "    return pm\n",
    "\n",
    "def getPointSec(l1,l2):\n",
    "    \"\"\"\n",
    "    Devuelve el punto de corte entre dos rectas, si estas son paralelas\n",
    "    se asume punto en el centro y a una distancia \"infinita\"\n",
    "    \"\"\"\n",
    "    x1,y1,x2,y2 = l1\n",
    "    a1,b1,a2,b2 = l2\n",
    "    m1 = (y2 - y1)/(x2 - x1)\n",
    "    m2 = (b2 - b1)/(a2 - a1)\n",
    "    n1 = y1 - (x1 * m1)\n",
    "    n2 = b1 - (a1 * m2)\n",
    "    if m1 == m2:\n",
    "        return ((((1-n1)/m1)+((1-n2)/m2))/2,999999999)\n",
    "    px = (n2 - n1) / (m1 - m2)\n",
    "    py = m1*px + n1\n",
    "    return (px,py)\n",
    "\n",
    "def getRectaPerp(pt,l):\n",
    "    \"\"\"\n",
    "    Devuelve la recta perpendicular a otra que pasa por un punto\n",
    "    \"\"\"\n",
    "    x1,y1,x2,y2 = l\n",
    "    px,py = pt\n",
    "    ml = (y2 - y1)/(x2 - x1)\n",
    "    m = 1 / ml\n",
    "    n = py - (px * m)\n",
    "    lperp = [px,py,px+50,(m*(px+50))+n]\n",
    "    return lperp\n",
    "\n",
    "def getAngleRect(l1,l2):\n",
    "    \"\"\"\n",
    "    Devuelve el angulo formado por dos rectas\n",
    "    \"\"\"\n",
    "    x1,y1,x2,y2 = l1\n",
    "    a1,b1,a2,b2 = l2\n",
    "    m1 = (y2 - y1)/(x2 - x1)\n",
    "    m2 = (b2 - b1)/(a2 - a1)\n",
    "    alpha = math.atan((m1 - m2)/(1+m1*m2))* 180 / np.pi\n",
    "    return abs(alpha)\n",
    "\n",
    "def getPixelMeterY(pt, l1, l2, l3, l4, horitzontal = False, paralel = True):\n",
    "    \"\"\"\n",
    "    Devuelve la relación píxel metro de un punto en el eje \"Y\" y el punto focal\n",
    "    pt: punto de movimiento\n",
    "    l1: recta horizontal de mesa\n",
    "    l2: recta horizontal superior mesa\n",
    "    l3: recta lateral de mesa\n",
    "    l4: recta otro lateral de mesa\n",
    "    \"\"\"\n",
    "    pa,pb = getPointSec(l3,l4)\n",
    "    px,py = pt\n",
    "    lp = [px,py,pa,pb]\n",
    "    beta = getAngleRect(l3,lp)\n",
    "    \n",
    "    if paralel == True:\n",
    "        lperp = getRectaPerp((pa,pb),l1)\n",
    "        alpha = getAngleRect(l3,lperp)\n",
    "        dist = getDist((l2[0],l2[1]),l1)\n",
    "    else:\n",
    "        alpha = getAngleRect(l3,l4)\n",
    "        dist = math.sqrt((l4[0]-l4[2])**2+(l4[1]+l4[3])**2)\n",
    "    \n",
    "    x1,y1,x2,y2 = l3\n",
    "    length = math.sqrt((x1-x2)**2+(y1-y2)**2)\n",
    "    \n",
    "    if horitzontal == True:\n",
    "        rel = 2.74\n",
    "    else:\n",
    "        rel = 1.525\n",
    "    \n",
    "    pm = ((((beta+alpha)/alpha)*(length-dist))+dist) / rel\n",
    "    return (pm, (pa,pb))\n",
    "\n",
    "\n",
    "def getMeters(p1,p2,l1,l2,l3,l4):\n",
    "    \"\"\"\n",
    "    Devuelve los metros recorridos en nuevo x y nuevo y\n",
    "    p1: punto de partida\n",
    "    p2: punto final\n",
    "    l1: recta horizontal de mesa\n",
    "    l2: recta horizontal superior mesa\n",
    "    l3: recta lateral de mesa\n",
    "    l4: recta otro lateral de mesa\n",
    "    \"\"\"\n",
    "    if p1 == p2:\n",
    "        return 0\n",
    "    \n",
    "    x1,y1,x2,y2 = l1\n",
    "    a1,b1,a2,b2 = l2\n",
    "    m1 = (y2 - y1)/(x2 - x1)\n",
    "    m2 = (b2 - b1)/(a2 - a1)\n",
    "    \n",
    "    paralel = True\n",
    "    if (m1/m2) > 0.1:\n",
    "        paralel = False\n",
    "    \n",
    "    if paralel == True:\n",
    "        pmx = getPixelMeterX(p1,l1,l2)\n",
    "        pmy,pf = getPixelMeterY(p2,l1,l2,l3,l4)\n",
    "    else:\n",
    "        pmx,pfx = getPixelMeterY(p1,l3,l4,l1,l2,horitzontal=True,paralel=False)\n",
    "        pmy,pf = getPixelMeterY(p2,l1,l2,l3,l4,paralel=False)\n",
    "    \n",
    "    #x1,y1,x2,y2 = l1\n",
    "    #m = (y2 - y1)/(x2 - x1)\n",
    "    p1x,p1y = p1\n",
    "    n = p1y - (p1x * m1)\n",
    "    \n",
    "    if paralel == True:\n",
    "        lp1 = [p1x,p1y,p1x+50,(m1*(p1x+50))+n]\n",
    "    else:\n",
    "        lp1 = [pfx[0],pfx[1],p1x,p1y]\n",
    "    \n",
    "    p2x,p2y = p2\n",
    "    # lp2 = [p2x,p2y,p2x+50,(m*(p2x+50))+n]\n",
    "    \n",
    "    p3 = getPointSec(lp1,[pf[0],pf[1],p2x,p2y])\n",
    "    # p4 = getPointSec(lp2,[pf[0],pf[1],p1x,p1y])\n",
    "    # De p1 a p3 dist. horizontal = De p4 a p2 dist. horizontal\n",
    "    # De p1 a p4 dist. vertical = De p3 a p2 dist. vertical\n",
    "    \n",
    "    p3x,p3y = p3\n",
    "    distX = math.sqrt((p1x-p3x)**2+(p1y-p3y)**2) # En píxeles\n",
    "    distY = math.sqrt((p3x-p2x)**2+(p3y-p2y)**2)\n",
    "    \n",
    "    distMX = distX / pmx\n",
    "    distMY = distY / pmy\n",
    "    \n",
    "    moved = math.sqrt(distMX**2 + distMY**2)\n",
    "    \n",
    "    return moved"
   ]
  },
  {
   "cell_type": "code",
   "execution_count": 12,
   "metadata": {},
   "outputs": [
    {
     "data": {
      "text/plain": [
       "0.4"
      ]
     },
     "execution_count": 12,
     "metadata": {},
     "output_type": "execute_result"
    }
   ],
   "source": [
    "getDist((2,-1),[1,-0.75,3,-2.25])"
   ]
  },
  {
   "cell_type": "code",
   "execution_count": 13,
   "metadata": {},
   "outputs": [
    {
     "data": {
      "text/plain": [
       "63.43494882292201"
      ]
     },
     "execution_count": 13,
     "metadata": {},
     "output_type": "execute_result"
    }
   ],
   "source": [
    "getAngleRect([0,1,2,-1],[1,0,2,3])"
   ]
  },
  {
   "cell_type": "code",
   "execution_count": 22,
   "metadata": {},
   "outputs": [
    {
     "data": {
      "text/plain": [
       "(-0.5, 999999999)"
      ]
     },
     "execution_count": 22,
     "metadata": {},
     "output_type": "execute_result"
    }
   ],
   "source": [
    "getPointSec([0,1,1,2],[0,2,1,3])"
   ]
  },
  {
   "cell_type": "code",
   "execution_count": 88,
   "metadata": {},
   "outputs": [
    {
     "data": {
      "text/plain": [
       "0"
      ]
     },
     "execution_count": 88,
     "metadata": {},
     "output_type": "execute_result"
    },
    {
     "data": {
      "image/png": "[encoded data removed]",
      "text/plain": [
       "<Figure size 432x288 with 1 Axes>"
      ]
     },
     "metadata": {
      "needs_background": "light"
     },
     "output_type": "display_data"
    }
   ],
   "source": [
    "img = cv2.imread(\"./taula4.JPG\")\n",
    "lines = getLines(img)\n",
    "a,b,c,d = getRectangle(img,lines)\n",
    "# Obtener escala x y y\n",
    "x = 350\n",
    "y = 400\n",
    "l1,l2,l3,l4 = scalePoints(x,y,a,b,c,d)\n",
    "# Obtener punto origne y punto destino\n",
    "p1 = (100, 300)\n",
    "p2 = (100, 300)\n",
    "getMeters(p1,p2,l1,l2,l3,l4)"
   ]
  },
  {
   "cell_type": "code",
   "execution_count": null,
   "metadata": {},
   "outputs": [],
   "source": []
  }
 ],
 "metadata": {
  "kernelspec": {
   "display_name": "Python 3",
   "language": "python",
   "name": "python3"
  },
  "language_info": {
   "codemirror_mode": {
    "name": "ipython",
    "version": 3
   },
   "file_extension": ".py",
   "mimetype": "text/x-python",
   "name": "python",
   "nbconvert_exporter": "python",
   "pygments_lexer": "ipython3",
   "version": "3.8.5"
  }
 },
 "nbformat": 4,
 "nbformat_minor": 4
}
